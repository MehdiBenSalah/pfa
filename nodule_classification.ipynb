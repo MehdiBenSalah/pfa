{
 "metadata": {
  "language_info": {
   "codemirror_mode": {
    "name": "ipython",
    "version": 3
   },
   "file_extension": ".py",
   "mimetype": "text/x-python",
   "name": "python",
   "nbconvert_exporter": "python",
   "pygments_lexer": "ipython3",
   "version": "3.7.4"
  },
  "orig_nbformat": 2,
  "kernelspec": {
   "name": "python374jvsc74a57bd0cbc1630f6ac27d00c9f4ea5ff59d07a3d2920d2fb3e683b05679c37215caa53f",
   "display_name": "Python 3.7.4 64-bit"
  },
  "metadata": {
   "interpreter": {
    "hash": "cbc1630f6ac27d00c9f4ea5ff59d07a3d2920d2fb3e683b05679c37215caa53f"
   }
  }
 },
 "nbformat": 4,
 "nbformat_minor": 2,
 "cells": [
  {
   "cell_type": "code",
   "execution_count": 41,
   "metadata": {},
   "outputs": [],
   "source": [
    "import cv2\n",
    "from matplotlib import pyplot as plt\n",
    "import numpy as np\n",
    "import os\n",
    "import pandas as pd\n",
    "import random\n",
    "from skimage import io\n",
    "from shutil import copyfile\n",
    "import sys\n",
    "import time\n",
    "import SimpleITK as sitk\n",
    "import scipy.ndimage\n",
    "\n",
    "\n",
    "import tensorflow as tf\n",
    "from tensorflow import keras"
   ]
  },
  {
   "cell_type": "code",
   "execution_count": 42,
   "metadata": {},
   "outputs": [],
   "source": [
    "candidates_file = r'C:\\Users\\user\\Downloads\\pfa\\CSVFILES\\candidates_V2.csv'\n",
    "candidates_table = pd.read_csv(candidates_file)\n",
    "\n",
    "annotations_file = r'C:\\Users\\user\\Downloads\\pfa\\CSVFILES\\annotations(1).csv'\n",
    "annotations_table = pd.read_csv(annotations_file)\n",
    "\n",
    "seriesuid_file = r'C:\\Users\\user\\Downloads\\pfa\\CSVFILES\\seriesuid.csv'\n",
    "seriesuid_table = pd.read_csv(annotations_file)"
   ]
  },
  {
   "cell_type": "code",
   "execution_count": 43,
   "metadata": {},
   "outputs": [],
   "source": [
    "def get_voxel(x,y,z,new_spacing,new_origin):\n",
    "        #Converts Cartesian to voxel coordinates        \n",
    "        xx=(x-new_origin[2])/new_spacing[2]\n",
    "        yy=(y-new_origin[1])/new_spacing[1]\n",
    "        zz=(z-new_origin[0])/new_spacing[0]\n",
    "        return (xx,yy,zz)"
   ]
  },
  {
   "cell_type": "code",
   "execution_count": 44,
   "metadata": {},
   "outputs": [
    {
     "output_type": "execute_result",
     "data": {
      "text/plain": [
       "\"\\ndef crop_class1(img_id):\\n    #return crop images class 1\\n    class1=[]\\n        \\n    for index, row in annotations_table.iterrows() :\\n            img_id=row['seriesuid']\\n            img_ITK=sitk.ReadImage('C:/Users/user/Downloads/pfa/dataset/'+ img_id + '.mhd' )\\n            img_np= sitk.GetArrayFromImage(img_ITK)\\n            x=row['coordX']\\n            y=row['coordY']\\n            z=row['coordZ']\\n            (xx,yy,zz)=get_voxel(img_ITK,x,y,z)\\n            xx=int(xx)\\n            yy=int(yy)\\n            zz=int(zz)\\n            x_min=xx-16\\n            x_max=xx+16\\n            y_min=yy-16\\n            y_max=yy+16\\n            image=img_np[zz]\\n            img_crop = image[y_min:y_max, x_min:x_max]\\n            class1=class1+[img_crop]\\n            #save\\n            print(index)\\n            \\n        \\n    print('Done for all!')\\n    return(class1) \\n    \""
      ]
     },
     "metadata": {},
     "execution_count": 44
    }
   ],
   "source": [
    "'''\n",
    "def crop_class1(img_id):\n",
    "    #return crop images class 1\n",
    "    class1=[]\n",
    "        \n",
    "    for index, row in annotations_table.iterrows() :\n",
    "            img_id=row['seriesuid']\n",
    "            img_ITK=sitk.ReadImage('C:/Users/user/Downloads/pfa/dataset/'+ img_id + '.mhd' )\n",
    "            img_np= sitk.GetArrayFromImage(img_ITK)\n",
    "            x=row['coordX']\n",
    "            y=row['coordY']\n",
    "            z=row['coordZ']\n",
    "            (xx,yy,zz)=get_voxel(img_ITK,x,y,z)\n",
    "            xx=int(xx)\n",
    "            yy=int(yy)\n",
    "            zz=int(zz)\n",
    "            x_min=xx-16\n",
    "            x_max=xx+16\n",
    "            y_min=yy-16\n",
    "            y_max=yy+16\n",
    "            image=img_np[zz]\n",
    "            img_crop = image[y_min:y_max, x_min:x_max]\n",
    "            class1=class1+[img_crop]\n",
    "            #save\n",
    "            print(index)\n",
    "            \n",
    "        \n",
    "    print('Done for all!')\n",
    "    return(class1) \n",
    "    '''"
   ]
  },
  {
   "cell_type": "code",
   "execution_count": 45,
   "metadata": {},
   "outputs": [],
   "source": [
    "def resample(image, old_spacing, new_spacing=[1, 1, 1]):\n",
    "    \n",
    "    resize_factor = old_spacing / new_spacing\n",
    "    new_real_shape = image.shape * resize_factor\n",
    "    new_shape = np.round(new_real_shape)\n",
    "    real_resize_factor = new_shape / image.shape\n",
    "    new_spacing = old_spacing / real_resize_factor\n",
    "\n",
    "    image = scipy.ndimage.interpolation.zoom(image, real_resize_factor, mode = 'nearest')\n",
    "    \n",
    "    return image, new_spacing"
   ]
  },
  {
   "cell_type": "code",
   "execution_count": 46,
   "metadata": {},
   "outputs": [],
   "source": [
    "def crop_class1(img_id):\n",
    "    #return crop images class 1\n",
    "    class1=[]\n",
    "    img_ITK=sitk.ReadImage('C:/Users/user/Downloads/pfa/dataset/'+ img_id + '.mhd')\n",
    "    img_np = sitk.GetArrayFromImage(img_ITK)\n",
    "\n",
    "    origin = np.array(img_ITK.GetOrigin())[::-1] # get [z, y, x] origin\n",
    "    old_spacing = np.array(img_ITK.GetSpacing())[::-1] # get [z, y, x] spacing\n",
    "    img_np, new_spacing = resample(img_np, old_spacing)\n",
    "\n",
    "    bboxs = candidates_table[candidates_table['seriesuid']==img_id] \n",
    "    for index, row in bboxs.iterrows() :\n",
    "        if row['class']==1 :\n",
    "            x=row['coordX']\n",
    "            y=row['coordY']\n",
    "            z=row['coordZ']\n",
    "            (xx,yy,zz)=get_voxel(x,y,z,new_spacing,origin)\n",
    "            xx=int(xx)\n",
    "            yy=int(yy)\n",
    "            zz=int(zz)\n",
    "            x_min=xx-16\n",
    "            x_max=xx+16\n",
    "            y_min=yy-16\n",
    "            y_max=yy+16\n",
    "            image=img_np[zz]\n",
    "            img_crop = image[y_min:y_max, x_min:x_max]\n",
    "            class1=class1+[img_crop]\n",
    "            \n",
    "       \n",
    "            \n",
    "            \n",
    "        \n",
    "    #print('Done for all!')\n",
    "    return(class1) \n",
    "    "
   ]
  },
  {
   "cell_type": "code",
   "execution_count": 53,
   "metadata": {},
   "outputs": [
    {
     "output_type": "stream",
     "name": "stdout",
     "text": [
      "0\n",
      "1\n",
      "2\n",
      "5\n"
     ]
    }
   ],
   "source": [
    "\n",
    "class1=[]\n",
    "for index, row in seriesuid_table.iterrows() :\n",
    "    if index<3 :\n",
    "        class1=class1+crop_class1(row.seriesuid)\n",
    "        print(index)\n",
    "    else : \n",
    "        break\n",
    "print('fin')\n",
    "print(str(len(class1)))"
   ]
  },
  {
   "cell_type": "code",
   "execution_count": 36,
   "metadata": {},
   "outputs": [
    {
     "output_type": "stream",
     "name": "stdout",
     "text": [
      "276\n"
     ]
    }
   ],
   "source": [
    "print(str(len(class1)))"
   ]
  },
  {
   "cell_type": "code",
   "execution_count": 69,
   "metadata": {},
   "outputs": [
    {
     "output_type": "display_data",
     "data": {
      "text/plain": "<Figure size 432x288 with 1 Axes>",
      "image/svg+xml": "<?xml version=\"1.0\" encoding=\"utf-8\" standalone=\"no\"?>\r\n<!DOCTYPE svg PUBLIC \"-//W3C//DTD SVG 1.1//EN\"\r\n  \"http://www.w3.org/Graphics/SVG/1.1/DTD/svg11.dtd\">\r\n<svg height=\"248.919844pt\" version=\"1.1\" viewBox=\"0 0 251.565 248.919844\" width=\"251.565pt\" xmlns=\"http://www.w3.org/2000/svg\" xmlns:xlink=\"http://www.w3.org/1999/xlink\">\r\n <metadata>\r\n  <rdf:RDF xmlns:cc=\"http://creativecommons.org/ns#\" xmlns:dc=\"http://purl.org/dc/elements/1.1/\" xmlns:rdf=\"http://www.w3.org/1999/02/22-rdf-syntax-ns#\">\r\n   <cc:Work>\r\n    <dc:type rdf:resource=\"http://purl.org/dc/dcmitype/StillImage\"/>\r\n    <dc:date>2021-05-27T14:51:11.319427</dc:date>\r\n    <dc:format>image/svg+xml</dc:format>\r\n    <dc:creator>\r\n     <cc:Agent>\r\n      <dc:title>Matplotlib v3.4.1, https://matplotlib.org/</dc:title>\r\n     </cc:Agent>\r\n    </dc:creator>\r\n   </cc:Work>\r\n  </rdf:RDF>\r\n </metadata>\r\n <defs>\r\n  <style type=\"text/css\">*{stroke-linecap:butt;stroke-linejoin:round;}</style>\r\n </defs>\r\n <g id=\"figure_1\">\r\n  <g id=\"patch_1\">\r\n   <path d=\"M 0 248.919844 \r\nL 251.565 248.919844 \r\nL 251.565 0 \r\nL 0 0 \r\nz\r\n\" style=\"fill:none;\"/>\r\n  </g>\r\n  <g id=\"axes_1\">\r\n   <g id=\"patch_2\">\r\n    <path d=\"M 26.925 225.041719 \r\nL 244.365 225.041719 \r\nL 244.365 7.601719 \r\nL 26.925 7.601719 \r\nz\r\n\" style=\"fill:#ffffff;\"/>\r\n   </g>\r\n   <g clip-path=\"url(#p276666e400)\">\r\n    <image height=\"218\" id=\"imagefdc1a45a4f\" transform=\"scale(1 -1)translate(0 -218)\" width=\"218\" x=\"26.925\" xlink:href=\"data:image/png;base64,\r\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\" y=\"-7.041719\"/>\r\n   </g>\r\n   <g id=\"matplotlib.axis_1\">\r\n    <g id=\"xtick_1\">\r\n     <g id=\"line2d_1\">\r\n      <defs>\r\n       <path d=\"M 0 0 \r\nL 0 3.5 \r\n\" id=\"m5ede0b9668\" style=\"stroke:#000000;stroke-width:0.8;\"/>\r\n      </defs>\r\n      <g>\r\n       <use style=\"stroke:#000000;stroke-width:0.8;\" x=\"30.3225\" xlink:href=\"#m5ede0b9668\" y=\"225.041719\"/>\r\n      </g>\r\n     </g>\r\n     <g id=\"text_1\">\r\n      <!-- 0 -->\r\n      <g transform=\"translate(27.14125 239.640156)scale(0.1 -0.1)\">\r\n       <defs>\r\n        <path d=\"M 2034 4250 \r\nQ 1547 4250 1301 3770 \r\nQ 1056 3291 1056 2328 \r\nQ 1056 1369 1301 889 \r\nQ 1547 409 2034 409 \r\nQ 2525 409 2770 889 \r\nQ 3016 1369 3016 2328 \r\nQ 3016 3291 2770 3770 \r\nQ 2525 4250 2034 4250 \r\nz\r\nM 2034 4750 \r\nQ 2819 4750 3233 4129 \r\nQ 3647 3509 3647 2328 \r\nQ 3647 1150 3233 529 \r\nQ 2819 -91 2034 -91 \r\nQ 1250 -91 836 529 \r\nQ 422 1150 422 2328 \r\nQ 422 3509 836 4129 \r\nQ 1250 4750 2034 4750 \r\nz\r\n\" id=\"DejaVuSans-30\" transform=\"scale(0.015625)\"/>\r\n       </defs>\r\n       <use xlink:href=\"#DejaVuSans-30\"/>\r\n      </g>\r\n     </g>\r\n    </g>\r\n    <g id=\"xtick_2\">\r\n     <g id=\"line2d_2\">\r\n      <g>\r\n       <use style=\"stroke:#000000;stroke-width:0.8;\" x=\"64.2975\" xlink:href=\"#m5ede0b9668\" y=\"225.041719\"/>\r\n      </g>\r\n     </g>\r\n     <g id=\"text_2\">\r\n      <!-- 5 -->\r\n      <g transform=\"translate(61.11625 239.640156)scale(0.1 -0.1)\">\r\n       <defs>\r\n        <path d=\"M 691 4666 \r\nL 3169 4666 \r\nL 3169 4134 \r\nL 1269 4134 \r\nL 1269 2991 \r\nQ 1406 3038 1543 3061 \r\nQ 1681 3084 1819 3084 \r\nQ 2600 3084 3056 2656 \r\nQ 3513 2228 3513 1497 \r\nQ 3513 744 3044 326 \r\nQ 2575 -91 1722 -91 \r\nQ 1428 -91 1123 -41 \r\nQ 819 9 494 109 \r\nL 494 744 \r\nQ 775 591 1075 516 \r\nQ 1375 441 1709 441 \r\nQ 2250 441 2565 725 \r\nQ 2881 1009 2881 1497 \r\nQ 2881 1984 2565 2268 \r\nQ 2250 2553 1709 2553 \r\nQ 1456 2553 1204 2497 \r\nQ 953 2441 691 2322 \r\nL 691 4666 \r\nz\r\n\" id=\"DejaVuSans-35\" transform=\"scale(0.015625)\"/>\r\n       </defs>\r\n       <use xlink:href=\"#DejaVuSans-35\"/>\r\n      </g>\r\n     </g>\r\n    </g>\r\n    <g id=\"xtick_3\">\r\n     <g id=\"line2d_3\">\r\n      <g>\r\n       <use style=\"stroke:#000000;stroke-width:0.8;\" x=\"98.2725\" xlink:href=\"#m5ede0b9668\" y=\"225.041719\"/>\r\n      </g>\r\n     </g>\r\n     <g id=\"text_3\">\r\n      <!-- 10 -->\r\n      <g transform=\"translate(91.91 239.640156)scale(0.1 -0.1)\">\r\n       <defs>\r\n        <path d=\"M 794 531 \r\nL 1825 531 \r\nL 1825 4091 \r\nL 703 3866 \r\nL 703 4441 \r\nL 1819 4666 \r\nL 2450 4666 \r\nL 2450 531 \r\nL 3481 531 \r\nL 3481 0 \r\nL 794 0 \r\nL 794 531 \r\nz\r\n\" id=\"DejaVuSans-31\" transform=\"scale(0.015625)\"/>\r\n       </defs>\r\n       <use xlink:href=\"#DejaVuSans-31\"/>\r\n       <use x=\"63.623047\" xlink:href=\"#DejaVuSans-30\"/>\r\n      </g>\r\n     </g>\r\n    </g>\r\n    <g id=\"xtick_4\">\r\n     <g id=\"line2d_4\">\r\n      <g>\r\n       <use style=\"stroke:#000000;stroke-width:0.8;\" x=\"132.2475\" xlink:href=\"#m5ede0b9668\" y=\"225.041719\"/>\r\n      </g>\r\n     </g>\r\n     <g id=\"text_4\">\r\n      <!-- 15 -->\r\n      <g transform=\"translate(125.885 239.640156)scale(0.1 -0.1)\">\r\n       <use xlink:href=\"#DejaVuSans-31\"/>\r\n       <use x=\"63.623047\" xlink:href=\"#DejaVuSans-35\"/>\r\n      </g>\r\n     </g>\r\n    </g>\r\n    <g id=\"xtick_5\">\r\n     <g id=\"line2d_5\">\r\n      <g>\r\n       <use style=\"stroke:#000000;stroke-width:0.8;\" x=\"166.2225\" xlink:href=\"#m5ede0b9668\" y=\"225.041719\"/>\r\n      </g>\r\n     </g>\r\n     <g id=\"text_5\">\r\n      <!-- 20 -->\r\n      <g transform=\"translate(159.86 239.640156)scale(0.1 -0.1)\">\r\n       <defs>\r\n        <path d=\"M 1228 531 \r\nL 3431 531 \r\nL 3431 0 \r\nL 469 0 \r\nL 469 531 \r\nQ 828 903 1448 1529 \r\nQ 2069 2156 2228 2338 \r\nQ 2531 2678 2651 2914 \r\nQ 2772 3150 2772 3378 \r\nQ 2772 3750 2511 3984 \r\nQ 2250 4219 1831 4219 \r\nQ 1534 4219 1204 4116 \r\nQ 875 4013 500 3803 \r\nL 500 4441 \r\nQ 881 4594 1212 4672 \r\nQ 1544 4750 1819 4750 \r\nQ 2544 4750 2975 4387 \r\nQ 3406 4025 3406 3419 \r\nQ 3406 3131 3298 2873 \r\nQ 3191 2616 2906 2266 \r\nQ 2828 2175 2409 1742 \r\nQ 1991 1309 1228 531 \r\nz\r\n\" id=\"DejaVuSans-32\" transform=\"scale(0.015625)\"/>\r\n       </defs>\r\n       <use xlink:href=\"#DejaVuSans-32\"/>\r\n       <use x=\"63.623047\" xlink:href=\"#DejaVuSans-30\"/>\r\n      </g>\r\n     </g>\r\n    </g>\r\n    <g id=\"xtick_6\">\r\n     <g id=\"line2d_6\">\r\n      <g>\r\n       <use style=\"stroke:#000000;stroke-width:0.8;\" x=\"200.1975\" xlink:href=\"#m5ede0b9668\" y=\"225.041719\"/>\r\n      </g>\r\n     </g>\r\n     <g id=\"text_6\">\r\n      <!-- 25 -->\r\n      <g transform=\"translate(193.835 239.640156)scale(0.1 -0.1)\">\r\n       <use xlink:href=\"#DejaVuSans-32\"/>\r\n       <use x=\"63.623047\" xlink:href=\"#DejaVuSans-35\"/>\r\n      </g>\r\n     </g>\r\n    </g>\r\n    <g id=\"xtick_7\">\r\n     <g id=\"line2d_7\">\r\n      <g>\r\n       <use style=\"stroke:#000000;stroke-width:0.8;\" x=\"234.1725\" xlink:href=\"#m5ede0b9668\" y=\"225.041719\"/>\r\n      </g>\r\n     </g>\r\n     <g id=\"text_7\">\r\n      <!-- 30 -->\r\n      <g transform=\"translate(227.81 239.640156)scale(0.1 -0.1)\">\r\n       <defs>\r\n        <path d=\"M 2597 2516 \r\nQ 3050 2419 3304 2112 \r\nQ 3559 1806 3559 1356 \r\nQ 3559 666 3084 287 \r\nQ 2609 -91 1734 -91 \r\nQ 1441 -91 1130 -33 \r\nQ 819 25 488 141 \r\nL 488 750 \r\nQ 750 597 1062 519 \r\nQ 1375 441 1716 441 \r\nQ 2309 441 2620 675 \r\nQ 2931 909 2931 1356 \r\nQ 2931 1769 2642 2001 \r\nQ 2353 2234 1838 2234 \r\nL 1294 2234 \r\nL 1294 2753 \r\nL 1863 2753 \r\nQ 2328 2753 2575 2939 \r\nQ 2822 3125 2822 3475 \r\nQ 2822 3834 2567 4026 \r\nQ 2313 4219 1838 4219 \r\nQ 1578 4219 1281 4162 \r\nQ 984 4106 628 3988 \r\nL 628 4550 \r\nQ 988 4650 1302 4700 \r\nQ 1616 4750 1894 4750 \r\nQ 2613 4750 3031 4423 \r\nQ 3450 4097 3450 3541 \r\nQ 3450 3153 3228 2886 \r\nQ 3006 2619 2597 2516 \r\nz\r\n\" id=\"DejaVuSans-33\" transform=\"scale(0.015625)\"/>\r\n       </defs>\r\n       <use xlink:href=\"#DejaVuSans-33\"/>\r\n       <use x=\"63.623047\" xlink:href=\"#DejaVuSans-30\"/>\r\n      </g>\r\n     </g>\r\n    </g>\r\n   </g>\r\n   <g id=\"matplotlib.axis_2\">\r\n    <g id=\"ytick_1\">\r\n     <g id=\"line2d_8\">\r\n      <defs>\r\n       <path d=\"M 0 0 \r\nL -3.5 0 \r\n\" id=\"m14c8c10825\" style=\"stroke:#000000;stroke-width:0.8;\"/>\r\n      </defs>\r\n      <g>\r\n       <use style=\"stroke:#000000;stroke-width:0.8;\" x=\"26.925\" xlink:href=\"#m14c8c10825\" y=\"10.999219\"/>\r\n      </g>\r\n     </g>\r\n     <g id=\"text_8\">\r\n      <!-- 0 -->\r\n      <g transform=\"translate(13.5625 14.798437)scale(0.1 -0.1)\">\r\n       <use xlink:href=\"#DejaVuSans-30\"/>\r\n      </g>\r\n     </g>\r\n    </g>\r\n    <g id=\"ytick_2\">\r\n     <g id=\"line2d_9\">\r\n      <g>\r\n       <use style=\"stroke:#000000;stroke-width:0.8;\" x=\"26.925\" xlink:href=\"#m14c8c10825\" y=\"44.974219\"/>\r\n      </g>\r\n     </g>\r\n     <g id=\"text_9\">\r\n      <!-- 5 -->\r\n      <g transform=\"translate(13.5625 48.773437)scale(0.1 -0.1)\">\r\n       <use xlink:href=\"#DejaVuSans-35\"/>\r\n      </g>\r\n     </g>\r\n    </g>\r\n    <g id=\"ytick_3\">\r\n     <g id=\"line2d_10\">\r\n      <g>\r\n       <use style=\"stroke:#000000;stroke-width:0.8;\" x=\"26.925\" xlink:href=\"#m14c8c10825\" y=\"78.949219\"/>\r\n      </g>\r\n     </g>\r\n     <g id=\"text_10\">\r\n      <!-- 10 -->\r\n      <g transform=\"translate(7.2 82.748437)scale(0.1 -0.1)\">\r\n       <use xlink:href=\"#DejaVuSans-31\"/>\r\n       <use x=\"63.623047\" xlink:href=\"#DejaVuSans-30\"/>\r\n      </g>\r\n     </g>\r\n    </g>\r\n    <g id=\"ytick_4\">\r\n     <g id=\"line2d_11\">\r\n      <g>\r\n       <use style=\"stroke:#000000;stroke-width:0.8;\" x=\"26.925\" xlink:href=\"#m14c8c10825\" y=\"112.924219\"/>\r\n      </g>\r\n     </g>\r\n     <g id=\"text_11\">\r\n      <!-- 15 -->\r\n      <g transform=\"translate(7.2 116.723437)scale(0.1 -0.1)\">\r\n       <use xlink:href=\"#DejaVuSans-31\"/>\r\n       <use x=\"63.623047\" xlink:href=\"#DejaVuSans-35\"/>\r\n      </g>\r\n     </g>\r\n    </g>\r\n    <g id=\"ytick_5\">\r\n     <g id=\"line2d_12\">\r\n      <g>\r\n       <use style=\"stroke:#000000;stroke-width:0.8;\" x=\"26.925\" xlink:href=\"#m14c8c10825\" y=\"146.899219\"/>\r\n      </g>\r\n     </g>\r\n     <g id=\"text_12\">\r\n      <!-- 20 -->\r\n      <g transform=\"translate(7.2 150.698437)scale(0.1 -0.1)\">\r\n       <use xlink:href=\"#DejaVuSans-32\"/>\r\n       <use x=\"63.623047\" xlink:href=\"#DejaVuSans-30\"/>\r\n      </g>\r\n     </g>\r\n    </g>\r\n    <g id=\"ytick_6\">\r\n     <g id=\"line2d_13\">\r\n      <g>\r\n       <use style=\"stroke:#000000;stroke-width:0.8;\" x=\"26.925\" xlink:href=\"#m14c8c10825\" y=\"180.874219\"/>\r\n      </g>\r\n     </g>\r\n     <g id=\"text_13\">\r\n      <!-- 25 -->\r\n      <g transform=\"translate(7.2 184.673437)scale(0.1 -0.1)\">\r\n       <use xlink:href=\"#DejaVuSans-32\"/>\r\n       <use x=\"63.623047\" xlink:href=\"#DejaVuSans-35\"/>\r\n      </g>\r\n     </g>\r\n    </g>\r\n    <g id=\"ytick_7\">\r\n     <g id=\"line2d_14\">\r\n      <g>\r\n       <use style=\"stroke:#000000;stroke-width:0.8;\" x=\"26.925\" xlink:href=\"#m14c8c10825\" y=\"214.849219\"/>\r\n      </g>\r\n     </g>\r\n     <g id=\"text_14\">\r\n      <!-- 30 -->\r\n      <g transform=\"translate(7.2 218.648437)scale(0.1 -0.1)\">\r\n       <use xlink:href=\"#DejaVuSans-33\"/>\r\n       <use x=\"63.623047\" xlink:href=\"#DejaVuSans-30\"/>\r\n      </g>\r\n     </g>\r\n    </g>\r\n   </g>\r\n   <g id=\"patch_3\">\r\n    <path d=\"M 26.925 225.041719 \r\nL 26.925 7.601719 \r\n\" style=\"fill:none;stroke:#000000;stroke-linecap:square;stroke-linejoin:miter;stroke-width:0.8;\"/>\r\n   </g>\r\n   <g id=\"patch_4\">\r\n    <path d=\"M 244.365 225.041719 \r\nL 244.365 7.601719 \r\n\" style=\"fill:none;stroke:#000000;stroke-linecap:square;stroke-linejoin:miter;stroke-width:0.8;\"/>\r\n   </g>\r\n   <g id=\"patch_5\">\r\n    <path d=\"M 26.925 225.041719 \r\nL 244.365 225.041719 \r\n\" style=\"fill:none;stroke:#000000;stroke-linecap:square;stroke-linejoin:miter;stroke-width:0.8;\"/>\r\n   </g>\r\n   <g id=\"patch_6\">\r\n    <path d=\"M 26.925 7.601719 \r\nL 244.365 7.601719 \r\n\" style=\"fill:none;stroke:#000000;stroke-linecap:square;stroke-linejoin:miter;stroke-width:0.8;\"/>\r\n   </g>\r\n  </g>\r\n </g>\r\n <defs>\r\n  <clipPath id=\"p276666e400\">\r\n   <rect height=\"217.44\" width=\"217.44\" x=\"26.925\" y=\"7.601719\"/>\r\n  </clipPath>\r\n </defs>\r\n</svg>\r\n",
      "image/png": "[encoded data removed]"
     },
     "metadata": {
      "needs_background": "light"
     }
    }
   ],
   "source": [
    "plt.imshow(class1[2])\n",
    "plt.axis(\"on\")\n",
    "plt.gray()\n",
    "plt.show()"
   ]
  },
  {
   "cell_type": "code",
   "execution_count": 65,
   "metadata": {},
   "outputs": [
    {
     "output_type": "stream",
     "name": "stdout",
     "text": [
      "0\n",
      "1\n",
      "2\n",
      "fin\n",
      "5\n"
     ]
    }
   ],
   "source": [
    "def get_voxel(self,x,y,z):\n",
    "        \"\"\"\n",
    "        Converts Cartesian to voxel coordinates\n",
    "        \"\"\"\n",
    "        origin = self.GetOrigin()\n",
    "        resolution = self.GetSpacing()\n",
    "        xx=(x-origin[0])/resolution[0]\n",
    "        yy=(y-origin[1])/resolution[1]\n",
    "        zz=(z-origin[2])/resolution[2]\n",
    "        return (xx,yy,zz)\n",
    "\n",
    "\n",
    "\n",
    "\n",
    "\n",
    "\n",
    "\n",
    "def crop_class1(img_id):\n",
    "    #return crop images class 1\n",
    "    class1=[]\n",
    "    img_ITK=sitk.ReadImage('C:/Users/user/Downloads/pfa/dataset/'+ img_id + '.mhd')\n",
    "    img_np = sitk.GetArrayFromImage(img_ITK)\n",
    "\n",
    "   \n",
    "\n",
    "    bboxs = candidates_table[candidates_table['seriesuid']==img_id] \n",
    "    for index, row in bboxs.iterrows() :\n",
    "        if row['class']==1 :\n",
    "            x=row['coordX']\n",
    "            y=row['coordY']\n",
    "            z=row['coordZ']\n",
    "            (xx,yy,zz)=get_voxel(img_ITK,x,y,z)\n",
    "            xx=int(xx)\n",
    "            yy=int(yy)\n",
    "            zz=int(zz)\n",
    "            x_min=xx-16\n",
    "            x_max=xx+16\n",
    "            y_min=yy-16\n",
    "            y_max=yy+16\n",
    "            image=img_np[zz]\n",
    "            img_crop = image[y_min:y_max, x_min:x_max]\n",
    "            class1=class1+[img_crop]\n",
    "            \n",
    "       \n",
    "            \n",
    "            \n",
    "        \n",
    "    #print('Done for all!')\n",
    "    return(class1) \n",
    "    \n",
    "\n",
    "\n",
    "\n",
    "\n",
    "class1=[]\n",
    "for index, row in seriesuid_table.iterrows() :\n",
    "    if index<3 :\n",
    "        class1=class1+crop_class1(row.seriesuid)\n",
    "        print(index)\n",
    "    else : \n",
    "        break\n",
    "print('fin')\n",
    "print(str(len(class1)))"
   ]
  },
  {
   "cell_type": "code",
   "execution_count": 68,
   "metadata": {},
   "outputs": [
    {
     "output_type": "display_data",
     "data": {
      "text/plain": "<Figure size 432x288 with 1 Axes>",
      "image/svg+xml": "<?xml version=\"1.0\" encoding=\"utf-8\" standalone=\"no\"?>\r\n<!DOCTYPE svg PUBLIC \"-//W3C//DTD SVG 1.1//EN\"\r\n  \"http://www.w3.org/Graphics/SVG/1.1/DTD/svg11.dtd\">\r\n<svg height=\"248.919844pt\" version=\"1.1\" viewBox=\"0 0 251.565 248.919844\" width=\"251.565pt\" xmlns=\"http://www.w3.org/2000/svg\" xmlns:xlink=\"http://www.w3.org/1999/xlink\">\r\n <metadata>\r\n  <rdf:RDF xmlns:cc=\"http://creativecommons.org/ns#\" xmlns:dc=\"http://purl.org/dc/elements/1.1/\" xmlns:rdf=\"http://www.w3.org/1999/02/22-rdf-syntax-ns#\">\r\n   <cc:Work>\r\n    <dc:type rdf:resource=\"http://purl.org/dc/dcmitype/StillImage\"/>\r\n    <dc:date>2021-05-27T14:50:55.535769</dc:date>\r\n    <dc:format>image/svg+xml</dc:format>\r\n    <dc:creator>\r\n     <cc:Agent>\r\n      <dc:title>Matplotlib v3.4.1, https://matplotlib.org/</dc:title>\r\n     </cc:Agent>\r\n    </dc:creator>\r\n   </cc:Work>\r\n  </rdf:RDF>\r\n </metadata>\r\n <defs>\r\n  <style type=\"text/css\">*{stroke-linecap:butt;stroke-linejoin:round;}</style>\r\n </defs>\r\n <g id=\"figure_1\">\r\n  <g id=\"patch_1\">\r\n   <path d=\"M 0 248.919844 \r\nL 251.565 248.919844 \r\nL 251.565 0 \r\nL 0 0 \r\nz\r\n\" style=\"fill:none;\"/>\r\n  </g>\r\n  <g id=\"axes_1\">\r\n   <g id=\"patch_2\">\r\n    <path d=\"M 26.925 225.041719 \r\nL 244.365 225.041719 \r\nL 244.365 7.601719 \r\nL 26.925 7.601719 \r\nz\r\n\" style=\"fill:#ffffff;\"/>\r\n   </g>\r\n   <g clip-path=\"url(#pfee38cda1b)\">\r\n    <image height=\"218\" id=\"image092b00a85e\" transform=\"scale(1 -1)translate(0 -218)\" width=\"218\" x=\"26.925\" xlink:href=\"data:image/png;base64,\r\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\" y=\"-7.041719\"/>\r\n   </g>\r\n   <g id=\"matplotlib.axis_1\">\r\n    <g id=\"xtick_1\">\r\n     <g id=\"line2d_1\">\r\n      <defs>\r\n       <path d=\"M 0 0 \r\nL 0 3.5 \r\n\" id=\"m16f00d6764\" style=\"stroke:#000000;stroke-width:0.8;\"/>\r\n      </defs>\r\n      <g>\r\n       <use style=\"stroke:#000000;stroke-width:0.8;\" x=\"30.3225\" xlink:href=\"#m16f00d6764\" y=\"225.041719\"/>\r\n      </g>\r\n     </g>\r\n     <g id=\"text_1\">\r\n      <!-- 0 -->\r\n      <g transform=\"translate(27.14125 239.640156)scale(0.1 -0.1)\">\r\n       <defs>\r\n        <path d=\"M 2034 4250 \r\nQ 1547 4250 1301 3770 \r\nQ 1056 3291 1056 2328 \r\nQ 1056 1369 1301 889 \r\nQ 1547 409 2034 409 \r\nQ 2525 409 2770 889 \r\nQ 3016 1369 3016 2328 \r\nQ 3016 3291 2770 3770 \r\nQ 2525 4250 2034 4250 \r\nz\r\nM 2034 4750 \r\nQ 2819 4750 3233 4129 \r\nQ 3647 3509 3647 2328 \r\nQ 3647 1150 3233 529 \r\nQ 2819 -91 2034 -91 \r\nQ 1250 -91 836 529 \r\nQ 422 1150 422 2328 \r\nQ 422 3509 836 4129 \r\nQ 1250 4750 2034 4750 \r\nz\r\n\" id=\"DejaVuSans-30\" transform=\"scale(0.015625)\"/>\r\n       </defs>\r\n       <use xlink:href=\"#DejaVuSans-30\"/>\r\n      </g>\r\n     </g>\r\n    </g>\r\n    <g id=\"xtick_2\">\r\n     <g id=\"line2d_2\">\r\n      <g>\r\n       <use style=\"stroke:#000000;stroke-width:0.8;\" x=\"64.2975\" xlink:href=\"#m16f00d6764\" y=\"225.041719\"/>\r\n      </g>\r\n     </g>\r\n     <g id=\"text_2\">\r\n      <!-- 5 -->\r\n      <g transform=\"translate(61.11625 239.640156)scale(0.1 -0.1)\">\r\n       <defs>\r\n        <path d=\"M 691 4666 \r\nL 3169 4666 \r\nL 3169 4134 \r\nL 1269 4134 \r\nL 1269 2991 \r\nQ 1406 3038 1543 3061 \r\nQ 1681 3084 1819 3084 \r\nQ 2600 3084 3056 2656 \r\nQ 3513 2228 3513 1497 \r\nQ 3513 744 3044 326 \r\nQ 2575 -91 1722 -91 \r\nQ 1428 -91 1123 -41 \r\nQ 819 9 494 109 \r\nL 494 744 \r\nQ 775 591 1075 516 \r\nQ 1375 441 1709 441 \r\nQ 2250 441 2565 725 \r\nQ 2881 1009 2881 1497 \r\nQ 2881 1984 2565 2268 \r\nQ 2250 2553 1709 2553 \r\nQ 1456 2553 1204 2497 \r\nQ 953 2441 691 2322 \r\nL 691 4666 \r\nz\r\n\" id=\"DejaVuSans-35\" transform=\"scale(0.015625)\"/>\r\n       </defs>\r\n       <use xlink:href=\"#DejaVuSans-35\"/>\r\n      </g>\r\n     </g>\r\n    </g>\r\n    <g id=\"xtick_3\">\r\n     <g id=\"line2d_3\">\r\n      <g>\r\n       <use style=\"stroke:#000000;stroke-width:0.8;\" x=\"98.2725\" xlink:href=\"#m16f00d6764\" y=\"225.041719\"/>\r\n      </g>\r\n     </g>\r\n     <g id=\"text_3\">\r\n      <!-- 10 -->\r\n      <g transform=\"translate(91.91 239.640156)scale(0.1 -0.1)\">\r\n       <defs>\r\n        <path d=\"M 794 531 \r\nL 1825 531 \r\nL 1825 4091 \r\nL 703 3866 \r\nL 703 4441 \r\nL 1819 4666 \r\nL 2450 4666 \r\nL 2450 531 \r\nL 3481 531 \r\nL 3481 0 \r\nL 794 0 \r\nL 794 531 \r\nz\r\n\" id=\"DejaVuSans-31\" transform=\"scale(0.015625)\"/>\r\n       </defs>\r\n       <use xlink:href=\"#DejaVuSans-31\"/>\r\n       <use x=\"63.623047\" xlink:href=\"#DejaVuSans-30\"/>\r\n      </g>\r\n     </g>\r\n    </g>\r\n    <g id=\"xtick_4\">\r\n     <g id=\"line2d_4\">\r\n      <g>\r\n       <use style=\"stroke:#000000;stroke-width:0.8;\" x=\"132.2475\" xlink:href=\"#m16f00d6764\" y=\"225.041719\"/>\r\n      </g>\r\n     </g>\r\n     <g id=\"text_4\">\r\n      <!-- 15 -->\r\n      <g transform=\"translate(125.885 239.640156)scale(0.1 -0.1)\">\r\n       <use xlink:href=\"#DejaVuSans-31\"/>\r\n       <use x=\"63.623047\" xlink:href=\"#DejaVuSans-35\"/>\r\n      </g>\r\n     </g>\r\n    </g>\r\n    <g id=\"xtick_5\">\r\n     <g id=\"line2d_5\">\r\n      <g>\r\n       <use style=\"stroke:#000000;stroke-width:0.8;\" x=\"166.2225\" xlink:href=\"#m16f00d6764\" y=\"225.041719\"/>\r\n      </g>\r\n     </g>\r\n     <g id=\"text_5\">\r\n      <!-- 20 -->\r\n      <g transform=\"translate(159.86 239.640156)scale(0.1 -0.1)\">\r\n       <defs>\r\n        <path d=\"M 1228 531 \r\nL 3431 531 \r\nL 3431 0 \r\nL 469 0 \r\nL 469 531 \r\nQ 828 903 1448 1529 \r\nQ 2069 2156 2228 2338 \r\nQ 2531 2678 2651 2914 \r\nQ 2772 3150 2772 3378 \r\nQ 2772 3750 2511 3984 \r\nQ 2250 4219 1831 4219 \r\nQ 1534 4219 1204 4116 \r\nQ 875 4013 500 3803 \r\nL 500 4441 \r\nQ 881 4594 1212 4672 \r\nQ 1544 4750 1819 4750 \r\nQ 2544 4750 2975 4387 \r\nQ 3406 4025 3406 3419 \r\nQ 3406 3131 3298 2873 \r\nQ 3191 2616 2906 2266 \r\nQ 2828 2175 2409 1742 \r\nQ 1991 1309 1228 531 \r\nz\r\n\" id=\"DejaVuSans-32\" transform=\"scale(0.015625)\"/>\r\n       </defs>\r\n       <use xlink:href=\"#DejaVuSans-32\"/>\r\n       <use x=\"63.623047\" xlink:href=\"#DejaVuSans-30\"/>\r\n      </g>\r\n     </g>\r\n    </g>\r\n    <g id=\"xtick_6\">\r\n     <g id=\"line2d_6\">\r\n      <g>\r\n       <use style=\"stroke:#000000;stroke-width:0.8;\" x=\"200.1975\" xlink:href=\"#m16f00d6764\" y=\"225.041719\"/>\r\n      </g>\r\n     </g>\r\n     <g id=\"text_6\">\r\n      <!-- 25 -->\r\n      <g transform=\"translate(193.835 239.640156)scale(0.1 -0.1)\">\r\n       <use xlink:href=\"#DejaVuSans-32\"/>\r\n       <use x=\"63.623047\" xlink:href=\"#DejaVuSans-35\"/>\r\n      </g>\r\n     </g>\r\n    </g>\r\n    <g id=\"xtick_7\">\r\n     <g id=\"line2d_7\">\r\n      <g>\r\n       <use style=\"stroke:#000000;stroke-width:0.8;\" x=\"234.1725\" xlink:href=\"#m16f00d6764\" y=\"225.041719\"/>\r\n      </g>\r\n     </g>\r\n     <g id=\"text_7\">\r\n      <!-- 30 -->\r\n      <g transform=\"translate(227.81 239.640156)scale(0.1 -0.1)\">\r\n       <defs>\r\n        <path d=\"M 2597 2516 \r\nQ 3050 2419 3304 2112 \r\nQ 3559 1806 3559 1356 \r\nQ 3559 666 3084 287 \r\nQ 2609 -91 1734 -91 \r\nQ 1441 -91 1130 -33 \r\nQ 819 25 488 141 \r\nL 488 750 \r\nQ 750 597 1062 519 \r\nQ 1375 441 1716 441 \r\nQ 2309 441 2620 675 \r\nQ 2931 909 2931 1356 \r\nQ 2931 1769 2642 2001 \r\nQ 2353 2234 1838 2234 \r\nL 1294 2234 \r\nL 1294 2753 \r\nL 1863 2753 \r\nQ 2328 2753 2575 2939 \r\nQ 2822 3125 2822 3475 \r\nQ 2822 3834 2567 4026 \r\nQ 2313 4219 1838 4219 \r\nQ 1578 4219 1281 4162 \r\nQ 984 4106 628 3988 \r\nL 628 4550 \r\nQ 988 4650 1302 4700 \r\nQ 1616 4750 1894 4750 \r\nQ 2613 4750 3031 4423 \r\nQ 3450 4097 3450 3541 \r\nQ 3450 3153 3228 2886 \r\nQ 3006 2619 2597 2516 \r\nz\r\n\" id=\"DejaVuSans-33\" transform=\"scale(0.015625)\"/>\r\n       </defs>\r\n       <use xlink:href=\"#DejaVuSans-33\"/>\r\n       <use x=\"63.623047\" xlink:href=\"#DejaVuSans-30\"/>\r\n      </g>\r\n     </g>\r\n    </g>\r\n   </g>\r\n   <g id=\"matplotlib.axis_2\">\r\n    <g id=\"ytick_1\">\r\n     <g id=\"line2d_8\">\r\n      <defs>\r\n       <path d=\"M 0 0 \r\nL -3.5 0 \r\n\" id=\"m46cfc3d066\" style=\"stroke:#000000;stroke-width:0.8;\"/>\r\n      </defs>\r\n      <g>\r\n       <use style=\"stroke:#000000;stroke-width:0.8;\" x=\"26.925\" xlink:href=\"#m46cfc3d066\" y=\"10.999219\"/>\r\n      </g>\r\n     </g>\r\n     <g id=\"text_8\">\r\n      <!-- 0 -->\r\n      <g transform=\"translate(13.5625 14.798437)scale(0.1 -0.1)\">\r\n       <use xlink:href=\"#DejaVuSans-30\"/>\r\n      </g>\r\n     </g>\r\n    </g>\r\n    <g id=\"ytick_2\">\r\n     <g id=\"line2d_9\">\r\n      <g>\r\n       <use style=\"stroke:#000000;stroke-width:0.8;\" x=\"26.925\" xlink:href=\"#m46cfc3d066\" y=\"44.974219\"/>\r\n      </g>\r\n     </g>\r\n     <g id=\"text_9\">\r\n      <!-- 5 -->\r\n      <g transform=\"translate(13.5625 48.773437)scale(0.1 -0.1)\">\r\n       <use xlink:href=\"#DejaVuSans-35\"/>\r\n      </g>\r\n     </g>\r\n    </g>\r\n    <g id=\"ytick_3\">\r\n     <g id=\"line2d_10\">\r\n      <g>\r\n       <use style=\"stroke:#000000;stroke-width:0.8;\" x=\"26.925\" xlink:href=\"#m46cfc3d066\" y=\"78.949219\"/>\r\n      </g>\r\n     </g>\r\n     <g id=\"text_10\">\r\n      <!-- 10 -->\r\n      <g transform=\"translate(7.2 82.748437)scale(0.1 -0.1)\">\r\n       <use xlink:href=\"#DejaVuSans-31\"/>\r\n       <use x=\"63.623047\" xlink:href=\"#DejaVuSans-30\"/>\r\n      </g>\r\n     </g>\r\n    </g>\r\n    <g id=\"ytick_4\">\r\n     <g id=\"line2d_11\">\r\n      <g>\r\n       <use style=\"stroke:#000000;stroke-width:0.8;\" x=\"26.925\" xlink:href=\"#m46cfc3d066\" y=\"112.924219\"/>\r\n      </g>\r\n     </g>\r\n     <g id=\"text_11\">\r\n      <!-- 15 -->\r\n      <g transform=\"translate(7.2 116.723437)scale(0.1 -0.1)\">\r\n       <use xlink:href=\"#DejaVuSans-31\"/>\r\n       <use x=\"63.623047\" xlink:href=\"#DejaVuSans-35\"/>\r\n      </g>\r\n     </g>\r\n    </g>\r\n    <g id=\"ytick_5\">\r\n     <g id=\"line2d_12\">\r\n      <g>\r\n       <use style=\"stroke:#000000;stroke-width:0.8;\" x=\"26.925\" xlink:href=\"#m46cfc3d066\" y=\"146.899219\"/>\r\n      </g>\r\n     </g>\r\n     <g id=\"text_12\">\r\n      <!-- 20 -->\r\n      <g transform=\"translate(7.2 150.698437)scale(0.1 -0.1)\">\r\n       <use xlink:href=\"#DejaVuSans-32\"/>\r\n       <use x=\"63.623047\" xlink:href=\"#DejaVuSans-30\"/>\r\n      </g>\r\n     </g>\r\n    </g>\r\n    <g id=\"ytick_6\">\r\n     <g id=\"line2d_13\">\r\n      <g>\r\n       <use style=\"stroke:#000000;stroke-width:0.8;\" x=\"26.925\" xlink:href=\"#m46cfc3d066\" y=\"180.874219\"/>\r\n      </g>\r\n     </g>\r\n     <g id=\"text_13\">\r\n      <!-- 25 -->\r\n      <g transform=\"translate(7.2 184.673437)scale(0.1 -0.1)\">\r\n       <use xlink:href=\"#DejaVuSans-32\"/>\r\n       <use x=\"63.623047\" xlink:href=\"#DejaVuSans-35\"/>\r\n      </g>\r\n     </g>\r\n    </g>\r\n    <g id=\"ytick_7\">\r\n     <g id=\"line2d_14\">\r\n      <g>\r\n       <use style=\"stroke:#000000;stroke-width:0.8;\" x=\"26.925\" xlink:href=\"#m46cfc3d066\" y=\"214.849219\"/>\r\n      </g>\r\n     </g>\r\n     <g id=\"text_14\">\r\n      <!-- 30 -->\r\n      <g transform=\"translate(7.2 218.648437)scale(0.1 -0.1)\">\r\n       <use xlink:href=\"#DejaVuSans-33\"/>\r\n       <use x=\"63.623047\" xlink:href=\"#DejaVuSans-30\"/>\r\n      </g>\r\n     </g>\r\n    </g>\r\n   </g>\r\n   <g id=\"patch_3\">\r\n    <path d=\"M 26.925 225.041719 \r\nL 26.925 7.601719 \r\n\" style=\"fill:none;stroke:#000000;stroke-linecap:square;stroke-linejoin:miter;stroke-width:0.8;\"/>\r\n   </g>\r\n   <g id=\"patch_4\">\r\n    <path d=\"M 244.365 225.041719 \r\nL 244.365 7.601719 \r\n\" style=\"fill:none;stroke:#000000;stroke-linecap:square;stroke-linejoin:miter;stroke-width:0.8;\"/>\r\n   </g>\r\n   <g id=\"patch_5\">\r\n    <path d=\"M 26.925 225.041719 \r\nL 244.365 225.041719 \r\n\" style=\"fill:none;stroke:#000000;stroke-linecap:square;stroke-linejoin:miter;stroke-width:0.8;\"/>\r\n   </g>\r\n   <g id=\"patch_6\">\r\n    <path d=\"M 26.925 7.601719 \r\nL 244.365 7.601719 \r\n\" style=\"fill:none;stroke:#000000;stroke-linecap:square;stroke-linejoin:miter;stroke-width:0.8;\"/>\r\n   </g>\r\n  </g>\r\n </g>\r\n <defs>\r\n  <clipPath id=\"pfee38cda1b\">\r\n   <rect height=\"217.44\" width=\"217.44\" x=\"26.925\" y=\"7.601719\"/>\r\n  </clipPath>\r\n </defs>\r\n</svg>\r\n",
      "image/png": "[encoded data removed]"
     },
     "metadata": {
      "needs_background": "light"
     }
    }
   ],
   "source": [
    "plt.imshow(class1[2])\n",
    "plt.axis(\"on\")\n",
    "plt.gray()\n",
    "plt.show()"
   ]
  },
  {
   "cell_type": "code",
   "execution_count": 11,
   "metadata": {},
   "outputs": [],
   "source": [
    "'''\n",
    "def crop_class0(i):\n",
    "    #return crop images class 0\n",
    "    class0=[]\n",
    "    \n",
    "    for index, row in candidates_table.iterrows() :\n",
    "       i=index\n",
    "       if i<30 :\n",
    "            if row['class']==0 :\n",
    "                img_id=row['seriesuid']\n",
    "                img_ITK=sitk.ReadImage('C:/Users/user/Downloads/pfa/dataset/'+ img_id + '.mhd', sitk.sitkFloat32)\n",
    "                img_np= sitk.GetArrayFromImage(img_ITK)\n",
    "                x=row['coordX']\n",
    "                y=row['coordY']\n",
    "                z=row['coordZ']\n",
    "                (xx,yy,zz)=get_voxel(img_ITK,x,y,z)\n",
    "                xx=int(xx)\n",
    "                yy=int(yy)\n",
    "                zz=int(zz)\n",
    "                x_min=xx-16\n",
    "                x_max=xx+16\n",
    "                y_min=yy-16\n",
    "                y_max=yy+16\n",
    "                image=img_np[zz]\n",
    "                img_crop = image[y_min:y_max, x_min:x_max]\n",
    "                class0=class0+[img_crop]\n",
    "\n",
    "        \n",
    "    print('Done for all!')\n",
    "    return(class0) \n",
    "    "
   ]
  },
  {
   "cell_type": "code",
   "execution_count": 8,
   "metadata": {},
   "outputs": [
    {
     "output_type": "stream",
     "name": "stdout",
     "text": [
      "Done for all!\n30\n"
     ]
    }
   ],
   "source": [
    "'''\n",
    "class0=crop_class0(30)\n",
    "print(str(len(class0)))\n"
   ]
  },
  {
   "cell_type": "code",
   "execution_count": 9,
   "metadata": {},
   "outputs": [
    {
     "output_type": "display_data",
     "data": {
      "text/plain": "<Figure size 432x288 with 1 Axes>",
      "image/svg+xml": "<?xml version=\"1.0\" encoding=\"utf-8\" standalone=\"no\"?>\r\n<!DOCTYPE svg PUBLIC \"-//W3C//DTD SVG 1.1//EN\"\r\n  \"http://www.w3.org/Graphics/SVG/1.1/DTD/svg11.dtd\">\r\n<svg height=\"248.919844pt\" version=\"1.1\" viewBox=\"0 0 251.565 248.919844\" width=\"251.565pt\" xmlns=\"http://www.w3.org/2000/svg\" xmlns:xlink=\"http://www.w3.org/1999/xlink\">\r\n <metadata>\r\n  <rdf:RDF xmlns:cc=\"http://creativecommons.org/ns#\" xmlns:dc=\"http://purl.org/dc/elements/1.1/\" xmlns:rdf=\"http://www.w3.org/1999/02/22-rdf-syntax-ns#\">\r\n   <cc:Work>\r\n    <dc:type rdf:resource=\"http://purl.org/dc/dcmitype/StillImage\"/>\r\n    <dc:date>2021-05-26T10:20:48.838290</dc:date>\r\n    <dc:format>image/svg+xml</dc:format>\r\n    <dc:creator>\r\n     <cc:Agent>\r\n      <dc:title>Matplotlib v3.4.1, https://matplotlib.org/</dc:title>\r\n     </cc:Agent>\r\n    </dc:creator>\r\n   </cc:Work>\r\n  </rdf:RDF>\r\n </metadata>\r\n <defs>\r\n  <style type=\"text/css\">*{stroke-linecap:butt;stroke-linejoin:round;}</style>\r\n </defs>\r\n <g id=\"figure_1\">\r\n  <g id=\"patch_1\">\r\n   <path d=\"M 0 248.919844 \r\nL 251.565 248.919844 \r\nL 251.565 0 \r\nL 0 0 \r\nz\r\n\" style=\"fill:none;\"/>\r\n  </g>\r\n  <g id=\"axes_1\">\r\n   <g id=\"patch_2\">\r\n    <path d=\"M 26.925 225.041719 \r\nL 244.365 225.041719 \r\nL 244.365 7.601719 \r\nL 26.925 7.601719 \r\nz\r\n\" style=\"fill:#ffffff;\"/>\r\n   </g>\r\n   <g clip-path=\"url(#pf995bb6568)\">\r\n    <image height=\"218\" id=\"image8eb065f9e6\" transform=\"scale(1 -1)translate(0 -218)\" width=\"218\" x=\"26.925\" xlink:href=\"data:image/png;base64,\r\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\" y=\"-7.041719\"/>\r\n   </g>\r\n   <g id=\"matplotlib.axis_1\">\r\n    <g id=\"xtick_1\">\r\n     <g id=\"line2d_1\">\r\n      <defs>\r\n       <path d=\"M 0 0 \r\nL 0 3.5 \r\n\" id=\"m990490de7a\" style=\"stroke:#000000;stroke-width:0.8;\"/>\r\n      </defs>\r\n      <g>\r\n       <use style=\"stroke:#000000;stroke-width:0.8;\" x=\"30.3225\" xlink:href=\"#m990490de7a\" y=\"225.041719\"/>\r\n      </g>\r\n     </g>\r\n     <g id=\"text_1\">\r\n      <!-- 0 -->\r\n      <g transform=\"translate(27.14125 239.640156)scale(0.1 -0.1)\">\r\n       <defs>\r\n        <path d=\"M 2034 4250 \r\nQ 1547 4250 1301 3770 \r\nQ 1056 3291 1056 2328 \r\nQ 1056 1369 1301 889 \r\nQ 1547 409 2034 409 \r\nQ 2525 409 2770 889 \r\nQ 3016 1369 3016 2328 \r\nQ 3016 3291 2770 3770 \r\nQ 2525 4250 2034 4250 \r\nz\r\nM 2034 4750 \r\nQ 2819 4750 3233 4129 \r\nQ 3647 3509 3647 2328 \r\nQ 3647 1150 3233 529 \r\nQ 2819 -91 2034 -91 \r\nQ 1250 -91 836 529 \r\nQ 422 1150 422 2328 \r\nQ 422 3509 836 4129 \r\nQ 1250 4750 2034 4750 \r\nz\r\n\" id=\"DejaVuSans-30\" transform=\"scale(0.015625)\"/>\r\n       </defs>\r\n       <use xlink:href=\"#DejaVuSans-30\"/>\r\n      </g>\r\n     </g>\r\n    </g>\r\n    <g id=\"xtick_2\">\r\n     <g id=\"line2d_2\">\r\n      <g>\r\n       <use style=\"stroke:#000000;stroke-width:0.8;\" x=\"64.2975\" xlink:href=\"#m990490de7a\" y=\"225.041719\"/>\r\n      </g>\r\n     </g>\r\n     <g id=\"text_2\">\r\n      <!-- 5 -->\r\n      <g transform=\"translate(61.11625 239.640156)scale(0.1 -0.1)\">\r\n       <defs>\r\n        <path d=\"M 691 4666 \r\nL 3169 4666 \r\nL 3169 4134 \r\nL 1269 4134 \r\nL 1269 2991 \r\nQ 1406 3038 1543 3061 \r\nQ 1681 3084 1819 3084 \r\nQ 2600 3084 3056 2656 \r\nQ 3513 2228 3513 1497 \r\nQ 3513 744 3044 326 \r\nQ 2575 -91 1722 -91 \r\nQ 1428 -91 1123 -41 \r\nQ 819 9 494 109 \r\nL 494 744 \r\nQ 775 591 1075 516 \r\nQ 1375 441 1709 441 \r\nQ 2250 441 2565 725 \r\nQ 2881 1009 2881 1497 \r\nQ 2881 1984 2565 2268 \r\nQ 2250 2553 1709 2553 \r\nQ 1456 2553 1204 2497 \r\nQ 953 2441 691 2322 \r\nL 691 4666 \r\nz\r\n\" id=\"DejaVuSans-35\" transform=\"scale(0.015625)\"/>\r\n       </defs>\r\n       <use xlink:href=\"#DejaVuSans-35\"/>\r\n      </g>\r\n     </g>\r\n    </g>\r\n    <g id=\"xtick_3\">\r\n     <g id=\"line2d_3\">\r\n      <g>\r\n       <use style=\"stroke:#000000;stroke-width:0.8;\" x=\"98.2725\" xlink:href=\"#m990490de7a\" y=\"225.041719\"/>\r\n      </g>\r\n     </g>\r\n     <g id=\"text_3\">\r\n      <!-- 10 -->\r\n      <g transform=\"translate(91.91 239.640156)scale(0.1 -0.1)\">\r\n       <defs>\r\n        <path d=\"M 794 531 \r\nL 1825 531 \r\nL 1825 4091 \r\nL 703 3866 \r\nL 703 4441 \r\nL 1819 4666 \r\nL 2450 4666 \r\nL 2450 531 \r\nL 3481 531 \r\nL 3481 0 \r\nL 794 0 \r\nL 794 531 \r\nz\r\n\" id=\"DejaVuSans-31\" transform=\"scale(0.015625)\"/>\r\n       </defs>\r\n       <use xlink:href=\"#DejaVuSans-31\"/>\r\n       <use x=\"63.623047\" xlink:href=\"#DejaVuSans-30\"/>\r\n      </g>\r\n     </g>\r\n    </g>\r\n    <g id=\"xtick_4\">\r\n     <g id=\"line2d_4\">\r\n      <g>\r\n       <use style=\"stroke:#000000;stroke-width:0.8;\" x=\"132.2475\" xlink:href=\"#m990490de7a\" y=\"225.041719\"/>\r\n      </g>\r\n     </g>\r\n     <g id=\"text_4\">\r\n      <!-- 15 -->\r\n      <g transform=\"translate(125.885 239.640156)scale(0.1 -0.1)\">\r\n       <use xlink:href=\"#DejaVuSans-31\"/>\r\n       <use x=\"63.623047\" xlink:href=\"#DejaVuSans-35\"/>\r\n      </g>\r\n     </g>\r\n    </g>\r\n    <g id=\"xtick_5\">\r\n     <g id=\"line2d_5\">\r\n      <g>\r\n       <use style=\"stroke:#000000;stroke-width:0.8;\" x=\"166.2225\" xlink:href=\"#m990490de7a\" y=\"225.041719\"/>\r\n      </g>\r\n     </g>\r\n     <g id=\"text_5\">\r\n      <!-- 20 -->\r\n      <g transform=\"translate(159.86 239.640156)scale(0.1 -0.1)\">\r\n       <defs>\r\n        <path d=\"M 1228 531 \r\nL 3431 531 \r\nL 3431 0 \r\nL 469 0 \r\nL 469 531 \r\nQ 828 903 1448 1529 \r\nQ 2069 2156 2228 2338 \r\nQ 2531 2678 2651 2914 \r\nQ 2772 3150 2772 3378 \r\nQ 2772 3750 2511 3984 \r\nQ 2250 4219 1831 4219 \r\nQ 1534 4219 1204 4116 \r\nQ 875 4013 500 3803 \r\nL 500 4441 \r\nQ 881 4594 1212 4672 \r\nQ 1544 4750 1819 4750 \r\nQ 2544 4750 2975 4387 \r\nQ 3406 4025 3406 3419 \r\nQ 3406 3131 3298 2873 \r\nQ 3191 2616 2906 2266 \r\nQ 2828 2175 2409 1742 \r\nQ 1991 1309 1228 531 \r\nz\r\n\" id=\"DejaVuSans-32\" transform=\"scale(0.015625)\"/>\r\n       </defs>\r\n       <use xlink:href=\"#DejaVuSans-32\"/>\r\n       <use x=\"63.623047\" xlink:href=\"#DejaVuSans-30\"/>\r\n      </g>\r\n     </g>\r\n    </g>\r\n    <g id=\"xtick_6\">\r\n     <g id=\"line2d_6\">\r\n      <g>\r\n       <use style=\"stroke:#000000;stroke-width:0.8;\" x=\"200.1975\" xlink:href=\"#m990490de7a\" y=\"225.041719\"/>\r\n      </g>\r\n     </g>\r\n     <g id=\"text_6\">\r\n      <!-- 25 -->\r\n      <g transform=\"translate(193.835 239.640156)scale(0.1 -0.1)\">\r\n       <use xlink:href=\"#DejaVuSans-32\"/>\r\n       <use x=\"63.623047\" xlink:href=\"#DejaVuSans-35\"/>\r\n      </g>\r\n     </g>\r\n    </g>\r\n    <g id=\"xtick_7\">\r\n     <g id=\"line2d_7\">\r\n      <g>\r\n       <use style=\"stroke:#000000;stroke-width:0.8;\" x=\"234.1725\" xlink:href=\"#m990490de7a\" y=\"225.041719\"/>\r\n      </g>\r\n     </g>\r\n     <g id=\"text_7\">\r\n      <!-- 30 -->\r\n      <g transform=\"translate(227.81 239.640156)scale(0.1 -0.1)\">\r\n       <defs>\r\n        <path d=\"M 2597 2516 \r\nQ 3050 2419 3304 2112 \r\nQ 3559 1806 3559 1356 \r\nQ 3559 666 3084 287 \r\nQ 2609 -91 1734 -91 \r\nQ 1441 -91 1130 -33 \r\nQ 819 25 488 141 \r\nL 488 750 \r\nQ 750 597 1062 519 \r\nQ 1375 441 1716 441 \r\nQ 2309 441 2620 675 \r\nQ 2931 909 2931 1356 \r\nQ 2931 1769 2642 2001 \r\nQ 2353 2234 1838 2234 \r\nL 1294 2234 \r\nL 1294 2753 \r\nL 1863 2753 \r\nQ 2328 2753 2575 2939 \r\nQ 2822 3125 2822 3475 \r\nQ 2822 3834 2567 4026 \r\nQ 2313 4219 1838 4219 \r\nQ 1578 4219 1281 4162 \r\nQ 984 4106 628 3988 \r\nL 628 4550 \r\nQ 988 4650 1302 4700 \r\nQ 1616 4750 1894 4750 \r\nQ 2613 4750 3031 4423 \r\nQ 3450 4097 3450 3541 \r\nQ 3450 3153 3228 2886 \r\nQ 3006 2619 2597 2516 \r\nz\r\n\" id=\"DejaVuSans-33\" transform=\"scale(0.015625)\"/>\r\n       </defs>\r\n       <use xlink:href=\"#DejaVuSans-33\"/>\r\n       <use x=\"63.623047\" xlink:href=\"#DejaVuSans-30\"/>\r\n      </g>\r\n     </g>\r\n    </g>\r\n   </g>\r\n   <g id=\"matplotlib.axis_2\">\r\n    <g id=\"ytick_1\">\r\n     <g id=\"line2d_8\">\r\n      <defs>\r\n       <path d=\"M 0 0 \r\nL -3.5 0 \r\n\" id=\"m2190c3b5be\" style=\"stroke:#000000;stroke-width:0.8;\"/>\r\n      </defs>\r\n      <g>\r\n       <use style=\"stroke:#000000;stroke-width:0.8;\" x=\"26.925\" xlink:href=\"#m2190c3b5be\" y=\"10.999219\"/>\r\n      </g>\r\n     </g>\r\n     <g id=\"text_8\">\r\n      <!-- 0 -->\r\n      <g transform=\"translate(13.5625 14.798437)scale(0.1 -0.1)\">\r\n       <use xlink:href=\"#DejaVuSans-30\"/>\r\n      </g>\r\n     </g>\r\n    </g>\r\n    <g id=\"ytick_2\">\r\n     <g id=\"line2d_9\">\r\n      <g>\r\n       <use style=\"stroke:#000000;stroke-width:0.8;\" x=\"26.925\" xlink:href=\"#m2190c3b5be\" y=\"44.974219\"/>\r\n      </g>\r\n     </g>\r\n     <g id=\"text_9\">\r\n      <!-- 5 -->\r\n      <g transform=\"translate(13.5625 48.773437)scale(0.1 -0.1)\">\r\n       <use xlink:href=\"#DejaVuSans-35\"/>\r\n      </g>\r\n     </g>\r\n    </g>\r\n    <g id=\"ytick_3\">\r\n     <g id=\"line2d_10\">\r\n      <g>\r\n       <use style=\"stroke:#000000;stroke-width:0.8;\" x=\"26.925\" xlink:href=\"#m2190c3b5be\" y=\"78.949219\"/>\r\n      </g>\r\n     </g>\r\n     <g id=\"text_10\">\r\n      <!-- 10 -->\r\n      <g transform=\"translate(7.2 82.748437)scale(0.1 -0.1)\">\r\n       <use xlink:href=\"#DejaVuSans-31\"/>\r\n       <use x=\"63.623047\" xlink:href=\"#DejaVuSans-30\"/>\r\n      </g>\r\n     </g>\r\n    </g>\r\n    <g id=\"ytick_4\">\r\n     <g id=\"line2d_11\">\r\n      <g>\r\n       <use style=\"stroke:#000000;stroke-width:0.8;\" x=\"26.925\" xlink:href=\"#m2190c3b5be\" y=\"112.924219\"/>\r\n      </g>\r\n     </g>\r\n     <g id=\"text_11\">\r\n      <!-- 15 -->\r\n      <g transform=\"translate(7.2 116.723437)scale(0.1 -0.1)\">\r\n       <use xlink:href=\"#DejaVuSans-31\"/>\r\n       <use x=\"63.623047\" xlink:href=\"#DejaVuSans-35\"/>\r\n      </g>\r\n     </g>\r\n    </g>\r\n    <g id=\"ytick_5\">\r\n     <g id=\"line2d_12\">\r\n      <g>\r\n       <use style=\"stroke:#000000;stroke-width:0.8;\" x=\"26.925\" xlink:href=\"#m2190c3b5be\" y=\"146.899219\"/>\r\n      </g>\r\n     </g>\r\n     <g id=\"text_12\">\r\n      <!-- 20 -->\r\n      <g transform=\"translate(7.2 150.698437)scale(0.1 -0.1)\">\r\n       <use xlink:href=\"#DejaVuSans-32\"/>\r\n       <use x=\"63.623047\" xlink:href=\"#DejaVuSans-30\"/>\r\n      </g>\r\n     </g>\r\n    </g>\r\n    <g id=\"ytick_6\">\r\n     <g id=\"line2d_13\">\r\n      <g>\r\n       <use style=\"stroke:#000000;stroke-width:0.8;\" x=\"26.925\" xlink:href=\"#m2190c3b5be\" y=\"180.874219\"/>\r\n      </g>\r\n     </g>\r\n     <g id=\"text_13\">\r\n      <!-- 25 -->\r\n      <g transform=\"translate(7.2 184.673437)scale(0.1 -0.1)\">\r\n       <use xlink:href=\"#DejaVuSans-32\"/>\r\n       <use x=\"63.623047\" xlink:href=\"#DejaVuSans-35\"/>\r\n      </g>\r\n     </g>\r\n    </g>\r\n    <g id=\"ytick_7\">\r\n     <g id=\"line2d_14\">\r\n      <g>\r\n       <use style=\"stroke:#000000;stroke-width:0.8;\" x=\"26.925\" xlink:href=\"#m2190c3b5be\" y=\"214.849219\"/>\r\n      </g>\r\n     </g>\r\n     <g id=\"text_14\">\r\n      <!-- 30 -->\r\n      <g transform=\"translate(7.2 218.648437)scale(0.1 -0.1)\">\r\n       <use xlink:href=\"#DejaVuSans-33\"/>\r\n       <use x=\"63.623047\" xlink:href=\"#DejaVuSans-30\"/>\r\n      </g>\r\n     </g>\r\n    </g>\r\n   </g>\r\n   <g id=\"patch_3\">\r\n    <path d=\"M 26.925 225.041719 \r\nL 26.925 7.601719 \r\n\" style=\"fill:none;stroke:#000000;stroke-linecap:square;stroke-linejoin:miter;stroke-width:0.8;\"/>\r\n   </g>\r\n   <g id=\"patch_4\">\r\n    <path d=\"M 244.365 225.041719 \r\nL 244.365 7.601719 \r\n\" style=\"fill:none;stroke:#000000;stroke-linecap:square;stroke-linejoin:miter;stroke-width:0.8;\"/>\r\n   </g>\r\n   <g id=\"patch_5\">\r\n    <path d=\"M 26.925 225.041719 \r\nL 244.365 225.041719 \r\n\" style=\"fill:none;stroke:#000000;stroke-linecap:square;stroke-linejoin:miter;stroke-width:0.8;\"/>\r\n   </g>\r\n   <g id=\"patch_6\">\r\n    <path d=\"M 26.925 7.601719 \r\nL 244.365 7.601719 \r\n\" style=\"fill:none;stroke:#000000;stroke-linecap:square;stroke-linejoin:miter;stroke-width:0.8;\"/>\r\n   </g>\r\n  </g>\r\n </g>\r\n <defs>\r\n  <clipPath id=\"pf995bb6568\">\r\n   <rect height=\"217.44\" width=\"217.44\" x=\"26.925\" y=\"7.601719\"/>\r\n  </clipPath>\r\n </defs>\r\n</svg>\r\n",
      "image/png": "[encoded data removed]"
     },
     "metadata": {
      "needs_background": "light"
     }
    }
   ],
   "source": [
    "'''plt.imshow(class0[5])\n",
    "plt.axis(\"on\")\n",
    "plt.gray()\n",
    "plt.show()"
   ]
  },
  {
   "cell_type": "code",
   "execution_count": null,
   "metadata": {},
   "outputs": [],
   "source": []
  }
 ]
}